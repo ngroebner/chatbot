{
 "cells": [
  {
   "cell_type": "code",
   "execution_count": 2,
   "metadata": {},
   "outputs": [],
   "source": [
    "\n",
    "def factorial(number):\n",
    "    \"\"\"Return the factorial of the given positive integer.\"\"\"\n",
    "    if not isinstance(number, (int)) or number < 0:\n",
    "        raise TypeError('number must be an integer >= 0')\n",
    "    result = 1\n",
    "    for i in range(2, number + 1):\n",
    "        result *= i\n",
    "    return result\n",
    "\n",
    "\n",
    "def main():\n",
    "    \"\"\"Test the factorial() function.\"\"\"\n",
    "    for i in range(10):\n",
    "        print('The factorial of %s is %s' % (i, factorial(i)))\n",
    "    print('The factorial of 1000 is %s' % factorial(1000))\n",
    "    print('The factorial of 0 is %s' % factorial(0))\n",
    "    print('The factorial of 1000000 is %s' % factorial(1000000))\n",
    "    print('The factorial of 2000000000 is %s' % factorial(2000000000))\n",
    "    print('The factorial of 3000000000 is %s' % factorial(3000000000))\n",
    "\n",
    "\n"
   ]
  },
  {
   "cell_type": "code",
   "execution_count": null,
   "metadata": {},
   "outputs": [],
   "source": [
    "import unittest\n",
    "\n",
    "\n",
    "class TestFactorialMethods(unittest.TestCase):\n",
    "    \"\"\"Test cases for factorial().\"\"\"\n",
    "\n",
    "    def test_zero(self):\n",
    "        \"\"\"Test that the factorial of zero is one.\"\"\"\n",
    "        self.assertEqual(factorial.factorial(0), 1)\n",
    "\n",
    "    def test_one(self):\n",
    "        \"\"\"Test that the factorial of one is one.\"\"\"\n",
    "        self.assertEqual(factorial.factorial(1), 1)\n",
    "\n",
    "    def test_small_positive_integers(self):\n",
    "        \"\"\"Test that the factorial of small positive integers is correct.\"\"\"\n",
    "        for i in range(2, 11):\n",
    "            self.assertEqual(factorial.factorial(i), 2 * 3 * 4 * 5 * 6 * 7 * 8 * i)\n",
    "\n",
    "    def test_large_positive_integers(self):\n",
    "        \"\"\"Test that the factorial of large positive integers does not exceed Python's limit.\"\"\"\n",
    "        self.assertLessEqual(factorial.factorial(1000000), 2 ** 1024)\n",
    "\n",
    "    def test_large_positive_integer_with_long_type(self):\n",
    "        \"\"\"Test that the factorial of large positive integers with long type does not exceed Python's limit.\"\"\"\n",
    "        self.assertLessEqual(factorial.factorial(1000000), 2 ** 1024)\n",
    "\n",
    "    def test_negative_integers(self):\n",
    "        \"\"\"Test that negative integers raise an exception.\"\"\"\n",
    "        self.assertRaises(TypeError, factorial.factorial, -1)\n",
    "\n",
    "    def test_floats(self):\n",
    "        \"\"\"Test that floating point numbers raise an exception.\"\"\"\n",
    "        self.assertRaises(TypeError, factorial.factorial, 1.1)\n",
    "\n",
    "\n",
    "unittest.main()"
   ]
  },
  {
   "cell_type": "code",
   "execution_count": 4,
   "metadata": {},
   "outputs": [
    {
     "data": {
      "text/plain": [
       "True"
      ]
     },
     "execution_count": 4,
     "metadata": {},
     "output_type": "execute_result"
    }
   ],
   "source": [
    "factorial(50) == 30414093201713378043612608166064768844377641568960512000000000000"
   ]
  },
  {
   "cell_type": "code",
   "execution_count": null,
   "metadata": {},
   "outputs": [],
   "source": []
  }
 ],
 "metadata": {
  "kernelspec": {
   "display_name": "ae_pipeline",
   "language": "python",
   "name": "python3"
  },
  "language_info": {
   "codemirror_mode": {
    "name": "ipython",
    "version": 3
   },
   "file_extension": ".py",
   "mimetype": "text/x-python",
   "name": "python",
   "nbconvert_exporter": "python",
   "pygments_lexer": "ipython3",
   "version": "3.9.9"
  },
  "orig_nbformat": 4
 },
 "nbformat": 4,
 "nbformat_minor": 2
}
